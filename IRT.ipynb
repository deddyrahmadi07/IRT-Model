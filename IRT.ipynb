{
 "cells": [
  {
   "cell_type": "code",
   "execution_count": 1,
   "metadata": {},
   "outputs": [],
   "source": [
    "import matplotlib.pyplot as plt\n",
    "import pandas as pd\n",
    "import numpy as np\n",
    "from sklearn import linear_model"
   ]
  },
  {
   "cell_type": "code",
   "execution_count": 2,
   "metadata": {},
   "outputs": [
    {
     "name": "stdout",
     "output_type": "stream",
     "text": [
      "(128, 21)\n"
     ]
    },
    {
     "data": {
      "text/html": [
       "<div>\n",
       "<style scoped>\n",
       "    .dataframe tbody tr th:only-of-type {\n",
       "        vertical-align: middle;\n",
       "    }\n",
       "\n",
       "    .dataframe tbody tr th {\n",
       "        vertical-align: top;\n",
       "    }\n",
       "\n",
       "    .dataframe thead th {\n",
       "        text-align: right;\n",
       "    }\n",
       "</style>\n",
       "<table border=\"1\" class=\"dataframe\">\n",
       "  <thead>\n",
       "    <tr style=\"text-align: right;\">\n",
       "      <th></th>\n",
       "      <th>student</th>\n",
       "      <th>soal1</th>\n",
       "      <th>soal2</th>\n",
       "      <th>soal3</th>\n",
       "      <th>soal4</th>\n",
       "      <th>soal5</th>\n",
       "      <th>soal6</th>\n",
       "      <th>soal7</th>\n",
       "      <th>soal8</th>\n",
       "      <th>soal9</th>\n",
       "      <th>...</th>\n",
       "      <th>soal11</th>\n",
       "      <th>soal12</th>\n",
       "      <th>soal13</th>\n",
       "      <th>soal14</th>\n",
       "      <th>soal15</th>\n",
       "      <th>soal16</th>\n",
       "      <th>soal17</th>\n",
       "      <th>soal18</th>\n",
       "      <th>soal19</th>\n",
       "      <th>soal20</th>\n",
       "    </tr>\n",
       "  </thead>\n",
       "  <tbody>\n",
       "    <tr>\n",
       "      <th>0</th>\n",
       "      <td>student1</td>\n",
       "      <td>1</td>\n",
       "      <td>0</td>\n",
       "      <td>0</td>\n",
       "      <td>1</td>\n",
       "      <td>1</td>\n",
       "      <td>1</td>\n",
       "      <td>0</td>\n",
       "      <td>1</td>\n",
       "      <td>1</td>\n",
       "      <td>...</td>\n",
       "      <td>1</td>\n",
       "      <td>0</td>\n",
       "      <td>1</td>\n",
       "      <td>0</td>\n",
       "      <td>1</td>\n",
       "      <td>1</td>\n",
       "      <td>0</td>\n",
       "      <td>1</td>\n",
       "      <td>1</td>\n",
       "      <td>0</td>\n",
       "    </tr>\n",
       "    <tr>\n",
       "      <th>1</th>\n",
       "      <td>student2</td>\n",
       "      <td>1</td>\n",
       "      <td>0</td>\n",
       "      <td>0</td>\n",
       "      <td>0</td>\n",
       "      <td>0</td>\n",
       "      <td>0</td>\n",
       "      <td>0</td>\n",
       "      <td>0</td>\n",
       "      <td>0</td>\n",
       "      <td>...</td>\n",
       "      <td>0</td>\n",
       "      <td>0</td>\n",
       "      <td>1</td>\n",
       "      <td>0</td>\n",
       "      <td>0</td>\n",
       "      <td>0</td>\n",
       "      <td>1</td>\n",
       "      <td>0</td>\n",
       "      <td>0</td>\n",
       "      <td>0</td>\n",
       "    </tr>\n",
       "    <tr>\n",
       "      <th>2</th>\n",
       "      <td>student3</td>\n",
       "      <td>0</td>\n",
       "      <td>0</td>\n",
       "      <td>0</td>\n",
       "      <td>1</td>\n",
       "      <td>0</td>\n",
       "      <td>0</td>\n",
       "      <td>0</td>\n",
       "      <td>0</td>\n",
       "      <td>1</td>\n",
       "      <td>...</td>\n",
       "      <td>0</td>\n",
       "      <td>0</td>\n",
       "      <td>0</td>\n",
       "      <td>1</td>\n",
       "      <td>1</td>\n",
       "      <td>1</td>\n",
       "      <td>0</td>\n",
       "      <td>0</td>\n",
       "      <td>1</td>\n",
       "      <td>0</td>\n",
       "    </tr>\n",
       "    <tr>\n",
       "      <th>3</th>\n",
       "      <td>student4</td>\n",
       "      <td>1</td>\n",
       "      <td>0</td>\n",
       "      <td>0</td>\n",
       "      <td>1</td>\n",
       "      <td>0</td>\n",
       "      <td>1</td>\n",
       "      <td>1</td>\n",
       "      <td>0</td>\n",
       "      <td>0</td>\n",
       "      <td>...</td>\n",
       "      <td>0</td>\n",
       "      <td>0</td>\n",
       "      <td>0</td>\n",
       "      <td>0</td>\n",
       "      <td>0</td>\n",
       "      <td>0</td>\n",
       "      <td>0</td>\n",
       "      <td>1</td>\n",
       "      <td>1</td>\n",
       "      <td>0</td>\n",
       "    </tr>\n",
       "    <tr>\n",
       "      <th>4</th>\n",
       "      <td>student5</td>\n",
       "      <td>0</td>\n",
       "      <td>1</td>\n",
       "      <td>1</td>\n",
       "      <td>1</td>\n",
       "      <td>1</td>\n",
       "      <td>1</td>\n",
       "      <td>1</td>\n",
       "      <td>1</td>\n",
       "      <td>1</td>\n",
       "      <td>...</td>\n",
       "      <td>1</td>\n",
       "      <td>1</td>\n",
       "      <td>0</td>\n",
       "      <td>0</td>\n",
       "      <td>1</td>\n",
       "      <td>1</td>\n",
       "      <td>0</td>\n",
       "      <td>0</td>\n",
       "      <td>1</td>\n",
       "      <td>0</td>\n",
       "    </tr>\n",
       "  </tbody>\n",
       "</table>\n",
       "<p>5 rows × 21 columns</p>\n",
       "</div>"
      ],
      "text/plain": [
       "    student  soal1  soal2  soal3  soal4  soal5  soal6  soal7  soal8  soal9  \\\n",
       "0  student1      1      0      0      1      1      1      0      1      1   \n",
       "1  student2      1      0      0      0      0      0      0      0      0   \n",
       "2  student3      0      0      0      1      0      0      0      0      1   \n",
       "3  student4      1      0      0      1      0      1      1      0      0   \n",
       "4  student5      0      1      1      1      1      1      1      1      1   \n",
       "\n",
       "   ...  soal11  soal12  soal13  soal14  soal15  soal16  soal17  soal18  \\\n",
       "0  ...       1       0       1       0       1       1       0       1   \n",
       "1  ...       0       0       1       0       0       0       1       0   \n",
       "2  ...       0       0       0       1       1       1       0       0   \n",
       "3  ...       0       0       0       0       0       0       0       1   \n",
       "4  ...       1       1       0       0       1       1       0       0   \n",
       "\n",
       "   soal19  soal20  \n",
       "0       1       0  \n",
       "1       0       0  \n",
       "2       1       0  \n",
       "3       1       0  \n",
       "4       1       0  \n",
       "\n",
       "[5 rows x 21 columns]"
      ]
     },
     "execution_count": 2,
     "metadata": {},
     "output_type": "execute_result"
    }
   ],
   "source": [
    "data = pd.read_excel('data_progress_siswa_tps.xlsx')\n",
    "print(data.shape)\n",
    "data.head()"
   ]
  },
  {
   "cell_type": "code",
   "execution_count": 3,
   "metadata": {},
   "outputs": [
    {
     "name": "stdout",
     "output_type": "stream",
     "text": [
      "21\n"
     ]
    }
   ],
   "source": [
    "\n",
    "m_soal=len(data.columns)\n",
    "print(m_soal)"
   ]
  },
  {
   "cell_type": "code",
   "execution_count": 4,
   "metadata": {},
   "outputs": [
    {
     "name": "stdout",
     "output_type": "stream",
     "text": [
      "128\n"
     ]
    }
   ],
   "source": [
    "n_siswa=len(data['soal1'].values)\n",
    "print(n_siswa)"
   ]
  },
  {
   "cell_type": "code",
   "execution_count": 5,
   "metadata": {},
   "outputs": [
    {
     "name": "stdout",
     "output_type": "stream",
     "text": [
      "{'soal1': 46, 'soal2': 18, 'soal3': 18, 'soal4': 32, 'soal5': 29, 'soal6': 39, 'soal7': 24, 'soal8': 15, 'soal9': 44, 'soal10': 48, 'soal11': 23, 'soal12': 22, 'soal13': 29, 'soal14': 35, 'soal15': 29, 'soal16': 21, 'soal17': 22, 'soal18': 23, 'soal19': 22, 'soal20': 11}\n"
     ]
    }
   ],
   "source": [
    "soal = {}\n",
    "for i in data.columns :\n",
    "    if i != 'student':\n",
    "        soal[i] = data[i].sum(axis=0)\n",
    "        \n",
    "print(soal)"
   ]
  },
  {
   "cell_type": "code",
   "execution_count": 6,
   "metadata": {},
   "outputs": [],
   "source": [
    "poin=[]\n",
    "for key, values in soal.items():\n",
    "   poin.append(2.718**(0.5-values/n_siswa)/(1+2.718**(0.5-values/n_siswa)))"
   ]
  },
  {
   "cell_type": "code",
   "execution_count": 7,
   "metadata": {},
   "outputs": [
    {
     "name": "stdout",
     "output_type": "stream",
     "text": [
      "[0.5350948014364387, 0.5888801097679571, 0.5888801097679571, 0.5621701208172786, 0.5679296538338285, 0.5486684796759431, 0.5774874594195261, 0.594541696138024, 0.5389791951383204, 0.5312061458628644, 0.5793923154202046, 0.5812948101590648, 0.5679296538338285, 0.5563937812519867, 0.5679296538338285, 0.5831948900857229, 0.5812948101590648, 0.5793923154202046, 0.5812948101590648, 0.6020513031412051]\n"
     ]
    }
   ],
   "source": [
    "print(poin)"
   ]
  },
  {
   "cell_type": "code",
   "execution_count": 8,
   "metadata": {},
   "outputs": [],
   "source": [
    "total=[]\n",
    "for index, row in data.iterrows():\n",
    "    nilai=0\n",
    "    for i in range(0, len(poin)):\n",
    "        nilai+=poin[i]*row['soal'+str(i+1)]\n",
    "    total.append(nilai*100)"
   ]
  },
  {
   "cell_type": "code",
   "execution_count": 9,
   "metadata": {},
   "outputs": [
    {
     "name": "stdout",
     "output_type": "stream",
     "text": [
      "[733.7723731655552, 168.4319265429332, 392.1168597149067, 338.4107986928456, 799.1849450079585, 53.50948014364387, 277.9504492153075, 508.91024405058926, 0.0, 338.02236334512526, 396.7284968126587, 173.24193540786163, 283.346574235274, 508.38650706229566, 53.50948014364387, 562.2640066452119, 283.5370598353418, 332.05876722201265, 114.15624362374832, 513.5659062073257, 0.0, 168.82036591312138, 510.4695876939412, 0.0, 111.0598461283069, 0.0, 166.33026302241356, 0.0, 230.79343075213373, 736.4744382463249, 282.77841964056756, 577.2231123171239, 454.0520202311111, 334.7607084906325, 0.0, 337.6146357600398, 446.35182504263094, 0.0, 273.53799170887305, 0.0, 0.0, 0.0, 1081.946441918429, 337.2613708046195, 681.780304658795, 0.0, 445.2397550099354, 0.0, 338.21460298271006, 166.5194576087546, 283.5439507252513, 448.2973387536184, 0.0, 388.85173260539545, 0.0, 688.3155844797195, 0.0, 618.291010734274, 625.3760945988846, 0.0, 0.0, 0.0, 58.12948101590648, 0.0, 283.5331785781686, 53.50948014364387, 335.7311180191091, 170.74440118372226, 453.3026132440129, 0.0, 396.7120721860608, 559.5670999733954, 0.0, 342.0510050855232, 107.01853410011847, 397.6992168665652, 0.0, 221.17180605526573, 53.897919513832036, 337.64210587857343, 505.10302182255674, 223.07906475440907, 447.74674470598563, 222.89676105797759, 222.3339556515151, 113.1863369761666, 109.72649222537174, 392.4896142110377, 0.0, 53.50948014364387, 347.3559029749781, 388.06084431756335, 285.2122580227909, 165.1561455994285, 166.72323817452082, 683.8643259216328, 0.0, 168.63011643923537, 110.86936052823906, 167.278339284749, 0.0, 0.0, 0.0, 290.40370111164515, 175.8861066742991, 0.0, 223.2858627415168, 283.35475613891026, 218.10239414944067, 221.56024542545393, 0.0, 107.01853410011847, 221.94098049940783, 394.79399313567836, 446.39966965018283, 0.0, 273.5379917088731, 0.0, 167.088089810863, 451.54791714368815, 509.09114005494934, 58.88801097679571, 280.4801792640986, 333.3949311394311, 56.79296538338286, 0.0, 0.0, 173.81045737608508]\n"
     ]
    }
   ],
   "source": [
    "print(total)"
   ]
  },
  {
   "cell_type": "code",
   "execution_count": 10,
   "metadata": {},
   "outputs": [],
   "source": [
    "#data[\"Nilai Akhir\"]=total"
   ]
  },
  {
   "cell_type": "code",
   "execution_count": 11,
   "metadata": {},
   "outputs": [],
   "source": [
    "#data.to_excel(\"data_progress_siswa_tps.xlsx\")"
   ]
  },
  {
   "cell_type": "code",
   "execution_count": null,
   "metadata": {},
   "outputs": [],
   "source": []
  }
 ],
 "metadata": {
  "kernelspec": {
   "display_name": "Python 3",
   "language": "python",
   "name": "python3"
  },
  "language_info": {
   "codemirror_mode": {
    "name": "ipython",
    "version": 3
   },
   "file_extension": ".py",
   "mimetype": "text/x-python",
   "name": "python",
   "nbconvert_exporter": "python",
   "pygments_lexer": "ipython3",
   "version": "3.8.3"
  }
 },
 "nbformat": 4,
 "nbformat_minor": 2
}
